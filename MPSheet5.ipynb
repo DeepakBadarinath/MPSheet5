{
  "nbformat": 4,
  "nbformat_minor": 0,
  "metadata": {
    "colab": {
      "name": "MPSheet5.ipynb",
      "provenance": [],
      "collapsed_sections": [],
      "authorship_tag": "ABX9TyNvKk2KFtFwtSH4Kv7yImco",
      "include_colab_link": true
    },
    "kernelspec": {
      "name": "python3",
      "display_name": "Python 3"
    }
  },
  "cells": [
    {
      "cell_type": "markdown",
      "metadata": {
        "id": "view-in-github",
        "colab_type": "text"
      },
      "source": [
        "<a href=\"https://colab.research.google.com/github/DeepakBadarinath/MPSheet5/blob/main/MPSheet5.ipynb\" target=\"_parent\"><img src=\"https://colab.research.google.com/assets/colab-badge.svg\" alt=\"Open In Colab\"/></a>"
      ]
    },
    {
      "cell_type": "markdown",
      "metadata": {
        "id": "tcHXIqCvZyGl"
      },
      "source": [
        ""
      ]
    },
    {
      "cell_type": "code",
      "metadata": {
        "id": "ELSKmrn4bXR4"
      },
      "source": [
        "import numpy as np\n",
        "import matplotlib.pyplot as plt"
      ],
      "execution_count": 73,
      "outputs": []
    },
    {
      "cell_type": "code",
      "metadata": {
        "id": "2xnXT_szcwAS"
      },
      "source": [
        "#Functions to be used for sigma and b\n",
        "def identity(x):\n",
        "  return x\n",
        "\n",
        "def unit(x):\n",
        "  return np.ones(np.shape(x))\n",
        "\n",
        "def squared(x):\n",
        "  return x**2\n",
        "\n",
        "def zero(x):\n",
        "  return np.zeros(np.shape(x))"
      ],
      "execution_count": 74,
      "outputs": []
    },
    {
      "cell_type": "code",
      "metadata": {
        "id": "jnF6PugqiDFH"
      },
      "source": [
        "# One step transition given x0 , h ,sigma and b\n",
        "def one_step_transition(x0,h,sigma,b):\n",
        "  dim = np.shape(x0)[0]\n",
        "  Z = np.random.normal(0,1,size=(dim,dim))\n",
        "  return (x0 + np.sqrt(h)*np.dot(Z,sigma(x0)) + h*b(x0))"
      ],
      "execution_count": 75,
      "outputs": []
    },
    {
      "cell_type": "code",
      "metadata": {
        "colab": {
          "base_uri": "https://localhost:8080/"
        },
        "id": "hqz0h89cj7z3",
        "outputId": "8a63ae9b-5c7f-4114-ee83-8d6830d08da7"
      },
      "source": [
        "one_step_transition(np.array([0,0.53,1.55,5.32]),0.025,unit,squared)"
      ],
      "execution_count": 76,
      "outputs": [
        {
          "output_type": "execute_result",
          "data": {
            "text/plain": [
              "array([0.35424777, 0.94096747, 1.90613888, 5.87662304])"
            ]
          },
          "metadata": {
            "tags": []
          },
          "execution_count": 76
        }
      ]
    },
    {
      "cell_type": "code",
      "metadata": {
        "id": "GY0rs6N9ZwgD"
      },
      "source": [
        "# simulate process uptil time N steps, returns the times and postions vectors\n",
        "# !!Feed x0 being an numpy array!!\n",
        "def simulate(x0,h,N,sigma,b):\n",
        "  times = [0]\n",
        "  positions = [x0]\n",
        "  for i in range(N):\n",
        "    xnew = one_step_transition(x0,h,sigma,b)\n",
        "    x0 = xnew\n",
        "    times.append(h*(i+1))\n",
        "    positions.append(xnew)\n",
        "  return (times, positions)\n"
      ],
      "execution_count": 77,
      "outputs": []
    },
    {
      "cell_type": "code",
      "metadata": {
        "id": "jmjnftAMnpc2"
      },
      "source": [
        ""
      ],
      "execution_count": 77,
      "outputs": []
    },
    {
      "cell_type": "code",
      "metadata": {
        "colab": {
          "base_uri": "https://localhost:8080/"
        },
        "id": "eovWMvuamnt5",
        "outputId": "4da94143-6388-4c29-b630-ab2d40657302"
      },
      "source": [
        "simulate(np.array([0,0,0]),0.025,10,unit,squared)"
      ],
      "execution_count": 78,
      "outputs": [
        {
          "output_type": "execute_result",
          "data": {
            "text/plain": [
              "([0,\n",
              "  0.025,\n",
              "  0.05,\n",
              "  0.07500000000000001,\n",
              "  0.1,\n",
              "  0.125,\n",
              "  0.15000000000000002,\n",
              "  0.17500000000000002,\n",
              "  0.2,\n",
              "  0.225,\n",
              "  0.25],\n",
              " [array([0, 0, 0]),\n",
              "  array([-0.20205298,  0.10092844,  0.20664905]),\n",
              "  array([-0.33826952,  0.00541775,  0.07038559]),\n",
              "  array([-0.25867656, -0.13366055,  0.24850275]),\n",
              "  array([-0.19946275,  1.12491192,  0.12847038]),\n",
              "  array([ 0.08975066,  1.26575565, -0.03467531]),\n",
              "  array([ 0.16745928,  0.94623746, -0.29515642]),\n",
              "  array([ 0.48503659,  1.23813159, -0.18681037]),\n",
              "  array([ 0.18398225,  1.23489066, -0.1783291 ]),\n",
              "  array([ 0.44418187,  0.94393482, -0.28893375]),\n",
              "  array([ 0.90899914,  0.89037015, -0.44415837])])"
            ]
          },
          "metadata": {
            "tags": []
          },
          "execution_count": 78
        }
      ]
    },
    {
      "cell_type": "markdown",
      "metadata": {
        "id": "uI7S3GBVt5F8"
      },
      "source": [
        "Our function works well for general D dimensions. \n",
        "Now we experiment in the 1 D case."
      ]
    },
    {
      "cell_type": "code",
      "metadata": {
        "id": "pAb5wNpmuaUp"
      },
      "source": [
        "h = 0.01\n",
        "N = 100000\n",
        "x0 = np.array([1])"
      ],
      "execution_count": 79,
      "outputs": []
    },
    {
      "cell_type": "markdown",
      "metadata": {
        "id": "wAcAxI4KuQ_O"
      },
      "source": [
        "**First look at conditions of non blow up**"
      ]
    },
    {
      "cell_type": "code",
      "metadata": {
        "id": "Yg8lMJM9ufIK"
      },
      "source": [
        "sigma = unit\n",
        "b = zero"
      ],
      "execution_count": 80,
      "outputs": []
    },
    {
      "cell_type": "code",
      "metadata": {
        "colab": {
          "base_uri": "https://localhost:8080/",
          "height": 282
        },
        "id": "PJacmR8VuO2j",
        "outputId": "1dc4189d-dc07-4963-a2f1-bcceb410f84f"
      },
      "source": [
        "(times,positions) = simulate(x0,h,N,sigma,b)\n",
        "plt.plot(times,positions)"
      ],
      "execution_count": 81,
      "outputs": [
        {
          "output_type": "execute_result",
          "data": {
            "text/plain": [
              "[<matplotlib.lines.Line2D at 0x7f0e6b0b8ba8>]"
            ]
          },
          "metadata": {
            "tags": []
          },
          "execution_count": 81
        },
        {
          "output_type": "display_data",
          "data": {
            "image/png": "[encoded data removed]",
            "text/plain": [
              "<Figure size 432x288 with 1 Axes>"
            ]
          },
          "metadata": {
            "tags": [],
            "needs_background": "light"
          }
        }
      ]
    },
    {
      "cell_type": "markdown",
      "metadata": {
        "id": "ZuUvFR0rvQ49"
      },
      "source": [
        "Markov Chain clearly has a recurrent behaviour"
      ]
    },
    {
      "cell_type": "code",
      "metadata": {
        "id": "FsKEjJBRwISl"
      },
      "source": [
        "sigma = identity\n",
        "b = unit"
      ],
      "execution_count": 82,
      "outputs": []
    },
    {
      "cell_type": "code",
      "metadata": {
        "colab": {
          "base_uri": "https://localhost:8080/",
          "height": 282
        },
        "id": "RLH3qBYrsl9R",
        "outputId": "a06fdb05-33dd-4147-df50-41aa6123e2a8"
      },
      "source": [
        "(times,positions) = simulate(x0,h,N,sigma,b)\n",
        "plt.plot(times,positions)"
      ],
      "execution_count": 83,
      "outputs": [
        {
          "output_type": "execute_result",
          "data": {
            "text/plain": [
              "[<matplotlib.lines.Line2D at 0x7f0e6bd44320>]"
            ]
          },
          "metadata": {
            "tags": []
          },
          "execution_count": 83
        },
        {
          "output_type": "display_data",
          "data": {
            "image/png": "[encoded data removed]",
            "text/plain": [
              "<Figure size 432x288 with 1 Axes>"
            ]
          },
          "metadata": {
            "tags": [],
            "needs_background": "light"
          }
        }
      ]
    },
    {
      "cell_type": "markdown",
      "metadata": {
        "id": "42Ch5Umswe-8"
      },
      "source": [
        "Chain is still recurrent as we are still within the conditions of non blowup"
      ]
    },
    {
      "cell_type": "code",
      "metadata": {
        "id": "JzykJs6Rwoi6"
      },
      "source": [
        "sigma = identity\n",
        "b = identity"
      ],
      "execution_count": 84,
      "outputs": []
    },
    {
      "cell_type": "code",
      "metadata": {
        "colab": {
          "base_uri": "https://localhost:8080/",
          "height": 293
        },
        "id": "z3DinQbMtJYp",
        "outputId": "32340289-d70e-40ec-ca94-f3337f6df520"
      },
      "source": [
        "(times,positions) = simulate(x0,h,N,sigma,b)\n",
        "plt.plot(times,positions)"
      ],
      "execution_count": 85,
      "outputs": [
        {
          "output_type": "execute_result",
          "data": {
            "text/plain": [
              "[<matplotlib.lines.Line2D at 0x7f0e6ac3d358>]"
            ]
          },
          "metadata": {
            "tags": []
          },
          "execution_count": 85
        },
        {
          "output_type": "display_data",
          "data": {
            "image/png": "[encoded data removed]",
            "text/plain": [
              "<Figure size 432x288 with 1 Axes>"
            ]
          },
          "metadata": {
            "tags": [],
            "needs_background": "light"
          }
        }
      ]
    },
    {
      "cell_type": "markdown",
      "metadata": {
        "id": "eYKfytfrw4d0"
      },
      "source": [
        "Chain still seems to be recurrent, however as we are nearing blowup conditions it seems to be getting more \"transient\""
      ]
    },
    {
      "cell_type": "markdown",
      "metadata": {
        "id": "zB40K_H4xSkk"
      },
      "source": [
        "**Blowup conditions**"
      ]
    },
    {
      "cell_type": "code",
      "metadata": {
        "id": "WHWmVDa4xJyQ"
      },
      "source": [
        "sigma = squared\n",
        "b = unit"
      ],
      "execution_count": 86,
      "outputs": []
    },
    {
      "cell_type": "code",
      "metadata": {
        "colab": {
          "base_uri": "https://localhost:8080/",
          "height": 360
        },
        "id": "Rvu_hhQRxg8F",
        "outputId": "ab749477-ead6-43b0-cf13-03356232fcb4"
      },
      "source": [
        "(times,positions) = simulate(x0,h,1000,sigma,b)\n",
        "plt.plot(times,positions)"
      ],
      "execution_count": 87,
      "outputs": [
        {
          "output_type": "stream",
          "text": [
            "/usr/local/lib/python3.6/dist-packages/ipykernel_launcher.py:9: RuntimeWarning: overflow encountered in square\n",
            "  if __name__ == '__main__':\n",
            "/usr/local/lib/python3.6/dist-packages/ipykernel_launcher.py:5: RuntimeWarning: invalid value encountered in add\n",
            "  \"\"\"\n"
          ],
          "name": "stderr"
        },
        {
          "output_type": "execute_result",
          "data": {
            "text/plain": [
              "[<matplotlib.lines.Line2D at 0x7f0e6bea4f60>]"
            ]
          },
          "metadata": {
            "tags": []
          },
          "execution_count": 87
        },
        {
          "output_type": "display_data",
          "data": {
            "image/png": "[encoded data removed]",
            "text/plain": [
              "<Figure size 432x288 with 1 Axes>"
            ]
          },
          "metadata": {
            "tags": [],
            "needs_background": "light"
          }
        }
      ]
    },
    {
      "cell_type": "markdown",
      "metadata": {
        "id": "V-K02VS8yJkZ"
      },
      "source": [
        "Running for even 1000 simulations results in overflow( others were run for 100,000 simulations) This shows markov chain is going to infinity and is transient"
      ]
    },
    {
      "cell_type": "code",
      "metadata": {
        "id": "JOH5tupVydvA"
      },
      "source": [
        "sigma = identity\n",
        "b = squared"
      ],
      "execution_count": 88,
      "outputs": []
    },
    {
      "cell_type": "code",
      "metadata": {
        "colab": {
          "base_uri": "https://localhost:8080/",
          "height": 360
        },
        "id": "WphWPKcPykn2",
        "outputId": "ce278929-4e32-4abc-c4bd-4e3d0c5abd94"
      },
      "source": [
        "(times,positions) = simulate(x0,h,1000,sigma,b)\n",
        "plt.plot(times,positions)"
      ],
      "execution_count": 89,
      "outputs": [
        {
          "output_type": "stream",
          "text": [
            "/usr/local/lib/python3.6/dist-packages/ipykernel_launcher.py:9: RuntimeWarning: overflow encountered in square\n",
            "  if __name__ == '__main__':\n",
            "/usr/local/lib/python3.6/dist-packages/ipykernel_launcher.py:5: RuntimeWarning: invalid value encountered in add\n",
            "  \"\"\"\n"
          ],
          "name": "stderr"
        },
        {
          "output_type": "execute_result",
          "data": {
            "text/plain": [
              "[<matplotlib.lines.Line2D at 0x7f0e6b099ba8>]"
            ]
          },
          "metadata": {
            "tags": []
          },
          "execution_count": 89
        },
        {
          "output_type": "display_data",
          "data": {
            "image/png": "[encoded data removed]",
            "text/plain": [
              "<Figure size 432x288 with 1 Axes>"
            ]
          },
          "metadata": {
            "tags": [],
            "needs_background": "light"
          }
        }
      ]
    },
    {
      "cell_type": "markdown",
      "metadata": {
        "id": "BymyC1Ncy8yP"
      },
      "source": [
        "Again we see that chain the goes to  infinity and is transient"
      ]
    }
  ]
}